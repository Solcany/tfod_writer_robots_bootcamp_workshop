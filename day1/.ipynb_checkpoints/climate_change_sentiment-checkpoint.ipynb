{
 "cells": [
  {
   "cell_type": "code",
   "execution_count": 31,
   "id": "f43a7e2e-3cba-4b22-9d0f-dacda0f454f7",
   "metadata": {},
   "outputs": [],
   "source": [
    "# tasks:\n",
    "# import global warming dataset(csv)\n",
    "# select \"tweet, existence, existence.confidence\" columns\n",
    "# filter \"tweet\" by climate change deniers, include \"no\" and \"N\" existence\n",
    "# filter by classification confidence > 0.5\n",
    "# clean up the tweets, remove unknown characters, remove [link] string\n",
    "# export as txt file"
   ]
  },
  {
   "cell_type": "code",
   "execution_count": 32,
   "id": "ca172dfa-411b-4ef5-b641-9ec190d5657b",
   "metadata": {},
   "outputs": [],
   "source": [
    "import pandas"
   ]
  },
  {
   "cell_type": "code",
   "execution_count": 33,
   "id": "c24c2bda-eec5-4c38-987d-f744a165eaa9",
   "metadata": {},
   "outputs": [],
   "source": [
    "data = pandas.read_csv(\"data/tweet_global_warming.csv\")"
   ]
  },
  {
   "cell_type": "code",
   "execution_count": 34,
   "id": "3b370bbc-5555-4bcd-99b2-cda1c6b38275",
   "metadata": {},
   "outputs": [],
   "source": [
    "# remove unwanted columns by selecting only \"tweet, existence, existence.confidence\" columns\n",
    "tweets = data.loc[:, \"tweet\":\"existence.confidence\"]\n",
    "\n",
    "# remove rows where existence is a string longer than 3 characters\n",
    "# existence row longer than 3 strings suggest that the row is broken data\n",
    "mask0 = tweets[\"existence\"].str.len() < 4\n",
    "tweets = tweets[mask0] \n",
    "\n",
    "# the dataset has 2 words for negative sentiment, N and No\n",
    "# replace N with No to make sure that every negative sentiment row has existence == \"No\"\n",
    "tweets[\"existence\"] = tweets[\"existence\"].replace(\"N\", \"No\", regex=False)\n"
   ]
  },
  {
   "cell_type": "code",
   "execution_count": 35,
   "id": "ed232a31-2ba4-4114-862b-9b2ae2ef29c4",
   "metadata": {},
   "outputs": [],
   "source": [
    "# select only rows with negative tweets\n",
    "mask1 = tweets[\"existence\"] == \"No\"\n",
    "negative_tweets = tweets[mask1] \n",
    "\n",
    "# select only rows where existence.confidence is higher than 0.5\n",
    "# using astype(float) on negative_tweets dataframe turns strings of \"existence.confidence\" column\n",
    "# into numbers, float means floating point number, e.g 0.37\n",
    "mask2 = negative_tweets[\"existence.confidence\"].astype(float) > 0.5\n",
    "negative_tweets = negative_tweets[mask2]\n",
    "\n",
    "# keep only the tweet column\n",
    "# this operation will transform pandas dataframe into pandas series\n",
    "negative_tweets = negative_tweets[\"tweet\"]"
   ]
  },
  {
   "cell_type": "code",
   "execution_count": 36,
   "id": "3d332868-e40b-4197-8bd8-d8a30563fae7",
   "metadata": {},
   "outputs": [],
   "source": [
    "# remove unwanted characters and strings from the tweets\n",
    "clean_tweets = negative_tweets.str.replace(\"[link]\", \"\", regex=False)\n",
    "clean_tweets = clean_tweets.str.replace(\"�\", \"\", regex=False)"
   ]
  },
  {
   "cell_type": "code",
   "execution_count": 37,
   "id": "747d6d2e-c133-4693-8b28-c850dc7516d2",
   "metadata": {},
   "outputs": [],
   "source": [
    "clean_tweets.to_csv(\"data/clean_tweets.txt\", header=None, index=None,  sep='\\n')"
   ]
  }
 ],
 "metadata": {
  "kernelspec": {
   "display_name": "Python 3 (ipykernel)",
   "language": "python",
   "name": "python3"
  },
  "language_info": {
   "codemirror_mode": {
    "name": "ipython",
    "version": 3
   },
   "file_extension": ".py",
   "mimetype": "text/x-python",
   "name": "python",
   "nbconvert_exporter": "python",
   "pygments_lexer": "ipython3",
   "version": "3.8.12"
  }
 },
 "nbformat": 4,
 "nbformat_minor": 5
}
