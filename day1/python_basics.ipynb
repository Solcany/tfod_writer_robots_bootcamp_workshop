{
 "cells": [
  {
   "cell_type": "code",
   "execution_count": 88,
   "id": "5c7ba9b1-7626-4fe3-8f8d-81e797c2270b",
   "metadata": {},
   "outputs": [],
   "source": [
    "# data types\n",
    "number = 1\n",
    "character = \"a\"\n",
    "string = \"tfod\"\n",
    "boolean1 = True\n",
    "boolean2 = False\n",
    "null = None\n",
    "listOfNumbers = [1, 2, 3]\n",
    "listOfNames = [\"Anna\", \"Thomas\", \"Erica\"]"
   ]
  },
  {
   "cell_type": "code",
   "execution_count": 89,
   "id": "1d29189a-5801-4d47-9877-50bce2d3563a",
   "metadata": {},
   "outputs": [],
   "source": [
    "# variable reassignment\n",
    "string = \"apple\""
   ]
  },
  {
   "cell_type": "code",
   "execution_count": 90,
   "id": "cc35f405-dd3f-4477-8ace-c8920e579db3",
   "metadata": {},
   "outputs": [
    {
     "data": {
      "text/plain": [
       "'APPLE'"
      ]
     },
     "execution_count": 90,
     "metadata": {},
     "output_type": "execute_result"
    }
   ],
   "source": [
    "# make a string uppercase\n",
    "string.upper()"
   ]
  },
  {
   "cell_type": "code",
   "execution_count": 92,
   "id": "e73f65f2-556a-4b29-b59a-b09a2af679ed",
   "metadata": {},
   "outputs": [],
   "source": [
    "# function definition\n",
    "# create a new function that adds strings together\n",
    "def stringAdder(string1, string2, string3=\"mango\", string4=\"carrot\", string5=\"banana\"):\n",
    "    return string1 + string2 + string3 + string4 + string5"
   ]
  },
  {
   "cell_type": "code",
   "execution_count": 93,
   "id": "59cc654c-41ce-4e30-8d51-bb4b5818a27e",
   "metadata": {},
   "outputs": [
    {
     "data": {
      "text/plain": [
       "'applepearmangocarrotkiwi'"
      ]
     },
     "execution_count": 93,
     "metadata": {},
     "output_type": "execute_result"
    }
   ],
   "source": [
    "fruit1 = \"apple\"\n",
    "fruit2 = \"pear\"\n",
    "stringAdder(fruit1, fruit2, string5=\"kiwi\")"
   ]
  },
  {
   "cell_type": "code",
   "execution_count": 99,
   "id": "69a1da48-5a80-4c67-8c92-c9b832c88902",
   "metadata": {},
   "outputs": [],
   "source": [
    "def addStringAndNumber(string, number):\n",
    "    newString = string + str(number)\n",
    "    newString.upper()\n",
    "    return newString"
   ]
  },
  {
   "cell_type": "code",
   "execution_count": 107,
   "id": "520f0a96-83dd-4fb8-8246-9f3ef1d9e14c",
   "metadata": {},
   "outputs": [
    {
     "name": "stdout",
     "output_type": "stream",
     "text": [
      "APPLE-0\n",
      "APPLE-1\n",
      "APPLE-2\n",
      "APPLE-3\n",
      "APPLE-4\n",
      "APPLE-5\n",
      "APPLE-6\n",
      "APPLE-7\n",
      "APPLE-8\n",
      "APPLE-9\n"
     ]
    }
   ],
   "source": [
    "#collection = [0, 1, 2, 3, 4, 5, 6, 7, 8, 9]\n",
    "collection = range(10)\n",
    "\n",
    "for num in collection:\n",
    "    newString = addStringAndNumber(\"apple-\" , num)\n",
    "    print(newString)"
   ]
  },
  {
   "cell_type": "code",
   "execution_count": 117,
   "id": "b03a1421-2288-4645-9355-fa66850c263d",
   "metadata": {},
   "outputs": [
    {
     "name": "stdout",
     "output_type": "stream",
     "text": [
      "false!\n"
     ]
    }
   ],
   "source": [
    "# conditions\n",
    "if(\"banana\" == \"strawberry\"):\n",
    "    print(\"true!\")\n",
    "else:\n",
    "    print(\"false!\")"
   ]
  }
 ],
 "metadata": {
  "kernelspec": {
   "display_name": "Python 3 (ipykernel)",
   "language": "python",
   "name": "python3"
  },
  "language_info": {
   "codemirror_mode": {
    "name": "ipython",
    "version": 3
   },
   "file_extension": ".py",
   "mimetype": "text/x-python",
   "name": "python",
   "nbconvert_exporter": "python",
   "pygments_lexer": "ipython3",
   "version": "3.8.12"
  }
 },
 "nbformat": 4,
 "nbformat_minor": 5
}
